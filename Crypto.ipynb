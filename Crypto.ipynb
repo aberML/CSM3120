{
 "cells": [
  {
   "cell_type": "markdown",
   "metadata": {},
   "source": [
    "# Python Crypto Notebook Worksheet #\n",
    "\n",
    "The aim of this worksheet is to take you through some cryptography primitives using Python."
   ]
  },
  {
   "cell_type": "markdown",
   "metadata": {},
   "source": [
    "## Different crytographic terms\n",
    "\n",
    "Cryptography is a generic term used to describe the design and anlysis of mechanisms based on mathematical techniques that provide fundamental security services. \n",
    "\n",
    "We can think of cryptography as the establishment of a large toolkit of different techniques, which can be used on their own or in combined, in security applications. \n",
    "\n",
    "A **cryptographic primitive ** is a cryptographic process that provides a number of specified security services. Cryptopgraphic primitives can be viewed as the basic generic tools in the cryptographic tool kit. E.g. block ciphers (deterministic algorithms operating on fixed-length groups of bits, called blocks, with an unvarying transformation specified by a symmetric key), message authentication codes, hash functions, and digital signature schemes. \n",
    "\n",
    "A **cryptographic algorithm** is the particular specification of a cryptographic primitive. E.g. AES is a cryptographic algorithm that specifies a block cipher. \n",
    "\n",
    "A **crypto system** is often used to refer to the implementation of some cryptographic primitives and their accompanying infrastructure. A cryptosystem used for confidentiality may consist of a block cipher as well as the users, the keys and the key management. "
   ]
  },
  {
   "cell_type": "markdown",
   "metadata": {},
   "source": [
    "## Cryptography concepts for developers\n",
    "Source: an open source online book on practical cryptography https://cryptobook.nakov.com/\n",
    "\n",
    "Cryptography is the science of providing security and protection of information. It is used everywhere in our digital world: when you open a Web site, send an email or connect to the WiFi network. That's why developers should have at least basic understanding of cryptography and how to use crypto algorithms and crypto libraries, to understand hashing, symmetric and asymmetric ciphers and encryption schemes, as well as digital signatures and the cryptosystems and algorithms behind them.\n",
    "\n",
    "**Encryption and Keys**\n",
    "Cryptography deals with storing and transmitting data in a secure way, such that only those, for whom it is intended, can read and process it. This may involve encrypting and decrypting data using symmetric or asymmetric encryption schemes, where one or more keys are used to transform data from plain to encrypted form and back. \n",
    "\n",
    "Symmetric encryption (like AES) uses the same key to encrypt and decrypt messages, while asymmetric encryption uses a public-key cryptosystem (like RSA) and a key-pair: public key (encryption key) and corresponding private key (decryption key).\n",
    "\n",
    "Cryptography deals with **keys** (large secret numbers) and in many scenarios these keys are derived from numbers, passwords or passphrases using **key derivation algorithms** (like PBKDF2 and Scrypt).\n",
    "\n",
    "**Digital Signatures** and **Message Authentication**\n",
    "Cryptography provides means of digital signing of messages which guarantee message authenticity, integrity and non-repudiation. Most digital signature algorithms (like DSA, ECDSA and EdDSA) use asymmetric key pair (private and public key): the message is signed by the private key and the signature is verified by the corresponding public key. In the bank systems digital signatures are used to sign and approve payments. In blockchain signed transactions allow users to transfer a blockchain asset from one address to another.\n",
    "Cryptography deals with message authentication algorithms (like HMAC) and message authentication codes (MAC codes) to prove message authenticity, integrity and authorship. Authentication is used side by side with encryption, to ensure secure communication.\n",
    "\n",
    "**Secure Random Numbers**\n",
    "Cryptography uses random numbers and deals with entropy (unpredictable randomness) and secure generation of random numbers (e.g. using CSPRNG). Secure random numbers are unpredictable by nature and developers should care about them, because broken random generator means compromised or hacked system or app.\n",
    "\n",
    "**Key Exchange**\n",
    "Cryptography defines key-exchange algorithms (like Diffie-Hellman key exchange) and key establishment schemes, used to securely establish encryption keys between two parties that intend to transmit messages securely using encryption. Such algorithms are performed typically when a new secure connection between two parties is established, e.g. when you open a modern Web site or connect to the WiFi network. \n",
    "\n",
    "**Cryptographic Hashes and Password Hashing**\n",
    "Cryptography provides cryptographic hash functions (like SHA-3), which transform messages to message digest (hash of fixed length), which cannot be reversed back to the original message and almost uniquely identifies the input. In blockchain systems, for example, hashes are used to generate blockchain addresses, transaction ID and in many other algorithms and protocols. \n",
    "\n",
    "Password hashing and password to key derivation functions (like Scrypt) protect user passwords and password encrypted documents and data by securely deriving a hash (or key) from a text-based passwords, injecting random parameters (salt) and using a lot of iterations and computing resources to make password cracking slow.\n",
    "\n",
    "\n",
    "In this python notebook, we are going to introduce some **common cryptographic primitives** that developers should know, and demonstrate some of their example use in python."
   ]
  },
  {
   "cell_type": "code",
   "execution_count": null,
   "metadata": {
    "collapsed": true
   },
   "outputs": [],
   "source": [
    "# We mainly use the python crypto library pycrptodome \n",
    "# !pip install pycryptodomex "
   ]
  },
  {
   "cell_type": "markdown",
   "metadata": {},
   "source": [
    "\n",
    "# Encription and keys\n",
    "\n",
    "First, we shall cover both symmetric-key and asymmetric-key (i.e. public-key) cryptography.\n",
    "Symmetric ciphers use the same key to encrypt and decrypt, whereas asymmetric ciphers\n",
    "have two keys. One of these is used to encrypt the data and the other is used to decrypt it.\n",
    "\n",
    "Public-key cryptography uses this for authentication by a server keeping one key secret and\n",
    "sharing the other key publicly. Depending on the key disclosed either the client\n",
    "can encrypt a message with the public key that only the server may decrypt, or the client may\n",
    "decrypt a message from the server which only the server could have encrypted.\n",
    "\n",
    "Please read this overview for more information about symmetric and asymmetric cryptography\n",
    "https://cryptobook.nakov.com/encryption-symmetric-and-asymmetric\n",
    "or\n",
    "http://www.garykessler.net/library/crypto.html#types "
   ]
  },
  {
   "cell_type": "code",
   "execution_count": null,
   "metadata": {
    "collapsed": true
   },
   "outputs": [],
   "source": [
    "##\n",
    "## This cell contains shared utility functions and variables\n",
    "##\n",
    "\n",
    "import Cryptodome as cd\n",
    "\n",
    "# Base64 to make binary data easy to visually tell apart and copy/paste within\n",
    "# the notebook\n",
    "from base64 import b64encode, b64decode\n",
    "# Asymmetric ciphers\n",
    "from Cryptodome.Cipher import AES, DES3, PKCS1_OAEP\n",
    "# Symmetric ciphers\n",
    "from Cryptodome.PublicKey import RSA\n",
    "# It is important to generate random bytes using a crypto library\n",
    "# to ensure they have sufficient randomness (entropy). Whilst the operating system\n",
    "# random number generation *should* be good enough, this cannot be\n",
    "# guaranteed\n",
    "from Cryptodome.Random import get_random_bytes"
   ]
  },
  {
   "cell_type": "markdown",
   "metadata": {},
   "source": [
    "## Symmetric key cryptography\n",
    "For this example, we shall use the [Advanced Encryption Standard (AES)](https://en.wikipedia.org/wiki/Advanced_Encryption_Standard) algorithm.\n",
    "\n",
    "\n",
    "Again, more information on symmetric key cryptography can be found here http://www.garykessler.net/library/crypto.html#skc"
   ]
  },
  {
   "cell_type": "code",
   "execution_count": null,
   "metadata": {
    "collapsed": true
   },
   "outputs": [],
   "source": [
    "#  .+\"+.+\"+.+\"+.+\"+.+\"+.+\"+.\n",
    "# (                         )\n",
    "#  ) Symmetric key example (\n",
    "# (                         )\n",
    "#  \"+.+\"+.+\"+.+\"+.+\"+.+\"+.+\"\n",
    "\n",
    "\n",
    "# The data to encrypt. Note that the string is prepended with a 'b'\n",
    "# to tell python to coerce it to a byte array, as encryption can\n",
    "# only be performed on binary data\n",
    "data = b\"Here is some test data\"\n",
    "\n",
    "print('Input data:\\n\\t{}\\n\\t{}'.format(data, b64encode(data)))\n",
    "\n",
    "##########################\n",
    "## Setup and encryption ##\n",
    "##########################\n",
    "\n",
    "# To get a 128 bit key (1 byte=8 bit)\n",
    "aes_key = get_random_bytes(16)\n",
    "\n",
    "# A mode of operation (https://en.wikipedia.org/wiki/Block_cipher_mode_of_operation) \n",
    "# describes how to repeatedly apply a cipher's single-block\n",
    "# operation to securely transform any amounts of data larger than a block.\n",
    "# AES mode is used here to simultaneously provide both authentication and privacy \n",
    "# of the message (authenticated encryption) with a two-pass scheme. \n",
    "aes_cipher = AES.new(aes_key, AES.MODE_EAX)\n",
    "aes_nonce = aes_cipher.nonce \n",
    "aes_ciphertext, aes_tag = aes_cipher.encrypt_and_digest(data)\n",
    "\n",
    "print('\\nKey:\\t{}\\nNonce:\\t{}\\nTag:\\t{}\\n'.format(b64encode(aes_key), # key should be kept secret\n",
    "                                              b64encode(aes_nonce),   # initialisation vector\n",
    "                                              b64encode(aes_tag)))    # used for authentication here\n",
    "\n",
    "print('Encrypted data:\\n\\t{}\\n\\t{}'.format(aes_ciphertext, b64encode(aes_ciphertext)))\n",
    "\n",
    "\n",
    "file_out = open(\"encrypted.bin\", \"wb\")\n",
    "[ file_out.write(x) for x in (aes_nonce, aes_tag, aes_ciphertext)]\n",
    "file_out.close()\n",
    " \n",
    "################\n",
    "## Decryption ##\n",
    "################\n",
    "# The receiver can securely load the piece of data back (if they know the key!).\n",
    "file_in = open(\"encrypted.bin\", \"rb\")\n",
    "aes_nonce1, aes_tag1, aes_ciphertext1 = [file_in.read(x) for x in (16, 16, -1) ]\n",
    "file_in.close()\n",
    "print('\\n\\nLoading saved configurations: \\nCiphertext:\\t{}\\nNonce:\\t{}\\nTag:\\t{}\\n'.format(b64encode(aes_ciphertext1), # key should be kept secret\n",
    "                                              b64encode(aes_nonce1),   # initialisation vector\n",
    "                                              b64encode(aes_tag1)))    # used for authentication here\n",
    "\n",
    "\n",
    "# Create an AES cipher using the key we encryped with and nonce that was generated\n",
    "decrypt_cipher = AES.new(aes_key, AES.MODE_EAX, aes_nonce1)\n",
    "decrypted_data = decrypt_cipher.decrypt_and_verify(aes_ciphertext1, aes_tag1)\n",
    "\n",
    "\n",
    "print('Decrypted data:\\n\\t{}\\n\\t{}'.format(decrypted_data, b64encode(decrypted_data)))"
   ]
  },
  {
   "cell_type": "code",
   "execution_count": null,
   "metadata": {
    "collapsed": true,
    "slideshow": {
     "slide_type": "-"
    }
   },
   "outputs": [],
   "source": [
    "# Now given the following encrypted data, key, nonce, and tag,\n",
    "# decrypt it to find the message\n",
    "aes_test_key = base64.b64decode('AWbhqolEPuizxqVE12q/PA==')\n",
    "aes_test_nonce = base64.b64decode('Qj/ck4qYarb1z9/5WqafKw==')\n",
    "aes_test_tag = base64.b64decode('uMjq5w2Ol8ERKSxJYwHnCA==')\n",
    "aes_test_ciphertext = base64.b64decode('4nqdyUbMcmtFYeQ3ihKSJRAB8YnfL8SDLDSW7gbPVdyve5zr8E71OQJ3Lw==')\n",
    "\n",
    "# Fix me!\n",
    "decrypted_data = '?'\n",
    "print('Message: {}\\n'.format(decrypted_data))"
   ]
  },
  {
   "cell_type": "markdown",
   "metadata": {},
   "source": [
    "## Asymmetric key cryptography\n",
    "\n",
    "Asymmetric key cryptography (public-key cryptography) is vital for establishing trust between two parties.\n",
    "\n",
    "Please see [Gary Kessler's Web of Trust section](http://www.garykessler.net/library/crypto.html#trust)\n",
    "\n",
    "This example shall use the [Rivest–Shamir–Adleman (RSA)](https://en.wikipedia.org/wiki/RSA_(cryptosystem)) algorithm.\n",
    "\n",
    "More information on symmetric key cryptography is available at http://www.garykessler.net/library/crypto.html#pkc"
   ]
  },
  {
   "cell_type": "code",
   "execution_count": null,
   "metadata": {
    "collapsed": true
   },
   "outputs": [],
   "source": [
    "#  .+\"+.+\"+.+\"+.+\"+.+\"+.+\"+.\n",
    "# (                         )\n",
    "#  )Asymmetric key example (\n",
    "# (                         )\n",
    "#  \"+.+\"+.+\"+.+\"+.+\"+.+\"+.+\"\n",
    "\n",
    "\n",
    "# The data to encrypt\n",
    "data = b'Some more test data'\n",
    "\n",
    "print('Input data:\\n\\t{}\\n\\t{}\\n'.format(data, b64encode(data)))\n",
    "\n",
    "# Generate a random RSA key\n",
    "rsa_key = RSA.generate(2048)\n",
    "\n",
    "rsa_cipher = PKCS1_OAEP.new(rsa_key)\n",
    "rsa_ciphertext = rsa_cipher.encrypt(data)\n",
    "print('Encrypted message:\\n\\t{}\\n'.format(b64encode(rsa_ciphertext)))\n",
    "\n",
    "rsa_decrypted_message = rsa_cipher.decrypt(rsa_ciphertext)\n",
    "print('Decrypted message:\\n\\t{}\\n\\t{}\\n'.format(rsa_decrypted_message, b64encode(rsa_decrypted_message)))\n",
    "\n",
    "print('Public key:\\n{}\\n'.format(rsa_key.publickey().exportKey().decode('utf-8')))\n",
    "print('Private key:\\n{}\\n'.format(rsa_key.exportKey().decode('utf-8')))"
   ]
  },
  {
   "cell_type": "code",
   "execution_count": null,
   "metadata": {
    "collapsed": true
   },
   "outputs": [],
   "source": [
    "# Now, like in the last example, given a key\n",
    "# you must decrypt the message\n",
    "\n",
    "rsa_test_ciphertext = b64decode('J/Xvl57JJu4Z/7NVVvCtibJy3ne6aWlafDtKfTYVUMi8poY1WBPLdizvIsI1cfvyrbRfNmVrJgcy69byxrka6EvD7Zq32nHwhhJG1rvT1UGCDTvsmx7j/E1Ayh26uUWNsSFkuztlB5bTLCHZgqXMNYzY5YFoiqeqeZe7wuuplqA2hRM3ztNpOY6hYf6qvPwd04IIuBX8+EKwJzNv21SYVsbSYJ8vn6ozw6tXyTHcWBiECJIfr6+DfQNNf7fmlSGXPjPFHdZc8lB59TurZX0+MDsChZmMKuqKsJa4i+cX3likknmr/jSC3M5SzVqJyB/4jEusRbYlj3cBDuqxaLgW9Q==')\n",
    "rsa_test_pubkey = RSA.import_key(b64decode('MIIBIjANBgkqhkiG9w0BAQEFAAOCAQ8AMIIBCgKCAQEAxH5udlRxQryLY2pGAi62hkZBTKcTb5u4M05+3aSKlaX2DKuDzJad/ryYgkL2d5dwKqkc+JkrE1GW4iSpmxOEZ5ngVJ2uPuYp/YtaIr+032fYj25hl4qwodJBqVHu2S2vVQLV1q54B0lXCLJYfZfbnelxb8EFdHNPKvjlXV1P0wXb7mdUk5ALvUI7jF/WNj2I99WTGjtRpQ2gUDmf1NQ0EAOoQQKCMw2MqSPLCCSeqS/DXhhxeonszt6e8YQaScqQH7epsFF6ktCScU+l6nWdQ1bw0/itxmLG5zcbUKEuYEnWPXaHDSaChIphIqzEHIy3d2OGydQOwMrinEBQ12I7swIDAQAB'))\n",
    "\n",
    "# Fix me too!\n",
    "rsa_decrypted_message = '?'\n",
    "print('Decrypted message: {}'.format(rsa_decrypted_message))"
   ]
  },
  {
   "cell_type": "markdown",
   "metadata": {},
   "source": [
    "# Hash function\n",
    "Cryptographic hash functions transform text or binary data to fixed-length hash value and are known to be collision-resistant and irreversible. Collision happens when the different input texts have got the same hash value. Example of cryptographic hash function is SHA3-256. "
   ]
  },
  {
   "cell_type": "code",
   "execution_count": null,
   "metadata": {
    "collapsed": true
   },
   "outputs": [],
   "source": [
    "from Cryptodome.Hash import SHA256, SHA512\n",
    "\n",
    "\n",
    "#A first piece of message to hash can be passed to new() with the data parameter\n",
    "hash_object = SHA256.new(data=b'First')\n",
    "\n",
    "# update invoked any number of times as necessary, with other pieces of message:\n",
    "hash_object.update(b'Second') # \n",
    "hash_object.update(b'Third')\n",
    "\n",
    "#At the end, the digest (or hash value) can be retrieved with the methods digest() or hexdigest()\n",
    "print(hash_object.digest())\n",
    "print(hash_object.hexdigest())\n"
   ]
  },
  {
   "cell_type": "markdown",
   "metadata": {},
   "source": [
    "Questions: \n",
    "- What are the other Hash algorithms besides SHA256? \n",
    "- Are they secured?\n"
   ]
  },
  {
   "cell_type": "markdown",
   "metadata": {},
   "source": [
    "# Digital Signatures and Message Authentication\n",
    "\n",
    "Digital signatures are a cryptographic tool to sign messages and verify message signatures in order to provide proof of authenticity for digital messages or electronic documents. Digital signatures provide:\n",
    "Message authentication - a proof that certain known sender (secret key owner) have created and signed the message.\n",
    "Мessage integrity - a proof that the message was not altered after the signing.\n",
    "Non-repudiation - the signer cannot deny the signing of the document after the signature is once created.\n",
    "\n",
    "For more information go to:\n",
    "https://cryptobook.nakov.com/digital-signatures\n"
   ]
  },
  {
   "cell_type": "code",
   "execution_count": null,
   "metadata": {
    "collapsed": true
   },
   "outputs": [],
   "source": [
    "keyPair = RSA.generate(bits=1024)\n",
    "print(f\"Public key:  (n={hex(keyPair.n)}, e={hex(keyPair.e)})\")\n",
    "print(f\"Private key: (n={hex(keyPair.n)}, d={hex(keyPair.d)})\")\n"
   ]
  },
  {
   "cell_type": "code",
   "execution_count": null,
   "metadata": {
    "collapsed": true
   },
   "outputs": [],
   "source": [
    "# Now, let's sign a message, using the RSA private key {n, d}. \n",
    "# Calculate its hash and raise the hash to the power d modulo n \n",
    "#(encrypt the hash by the private key). In Python we have modular exponentiation \n",
    "# as built in function pow(x, y, n):\n",
    "\n",
    "# RSA sign the message\n",
    "msg = b'A message for signing'\n",
    "from hashlib import sha512\n",
    "print(sha512(msg).digest())\n",
    "hash = int.from_bytes(SHA512.new(data=msg).digest(), byteorder='big')\n",
    "signature = pow(hash, keyPair.d, keyPair.n)\n",
    "\n",
    "# The obtained digital signature is an integer in the range of the RSA key length [0...n). \n",
    "print(\"Signature:\", hex(signature)) "
   ]
  },
  {
   "cell_type": "code",
   "execution_count": null,
   "metadata": {
    "collapsed": true
   },
   "outputs": [],
   "source": [
    "# The signature is 1024-bit integer (128 bytes, 256 hex digits). This signature size corresponds to the RSA key size.\n",
    "# Now, let's verify the signature, by decrypting the signature using the public key \n",
    "# (raise the signature to power e modulo n) and comparing the obtained hash from the signature to the hash of the \n",
    "# originally signed message\n",
    "\n",
    "# RSA verify signature\n",
    "msg = b'A message for signing'\n",
    "#hash = int.from_bytes(sha512(msg).digest(), byteorder='big')\n",
    "hash = int.from_bytes(SHA512.new(data=msg).digest(), byteorder='big')\n",
    "\n",
    "hashFromSignature = pow(signature, keyPair.e, keyPair.n)\n",
    "print(\"Signature valid:\", hash == hashFromSignature)\n",
    "\n",
    "# Check if the singuature is still valid if the key is changed. \n",
    "# ---"
   ]
  },
  {
   "cell_type": "markdown",
   "metadata": {},
   "source": [
    "## Final notes\n",
    "\n",
    "Cryptography is a complex field. While it's easy to use cryptography (as shown above), it is often difficult to\n",
    "do it right. As an example from this worksheet, the RSA key generated is not encrypted and thus would be trivial to steal. For the sake of simplicity this was left out, but there are many extra considerations over data storage and transfer when dealing with encrypted data.\n",
    "\n",
    "For a very thorough look at cryptography's history and current role in computing, see the [infosec institute's crypto post](http://resources.infosecinstitute.com/role-of-cryptography/)\n",
    "\n",
    "Be sure to read up on good practices at sites such as [OWASP](https://www.owasp.org/index.php/Main_Page)\n",
    "\n",
    "OWASP provides a [pdf on secure coding practices](https://www.owasp.org/images/0/08/OWASP_SCP_Quick_Reference_Guide_v2.pdf) as well as a [cheatsheet reference](https://github.com/OWASP/CheatSheetSeries)\n",
    "\n",
    "Another useful resource on cryptography is the [Awesome Cryptography List](https://github.com/sobolevn/awesome-cryptography), which provides links to learning resouces covering general cryptography subjects as well as specific frameworks for a variety of languages."
   ]
  },
  {
   "cell_type": "code",
   "execution_count": null,
   "metadata": {
    "collapsed": true
   },
   "outputs": [],
   "source": []
  },
  {
   "cell_type": "code",
   "execution_count": null,
   "metadata": {
    "collapsed": true
   },
   "outputs": [],
   "source": []
  }
 ],
 "metadata": {
  "kernelspec": {
   "display_name": "Python 3",
   "language": "python",
   "name": "python3"
  },
  "language_info": {
   "codemirror_mode": {
    "name": "ipython",
    "version": 3
   },
   "file_extension": ".py",
   "mimetype": "text/x-python",
   "name": "python",
   "nbconvert_exporter": "python",
   "pygments_lexer": "ipython3",
   "version": "3.6.8"
  }
 },
 "nbformat": 4,
 "nbformat_minor": 2
}
